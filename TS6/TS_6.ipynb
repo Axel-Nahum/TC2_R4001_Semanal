{
 "cells": [
  {
   "cell_type": "markdown",
   "id": "338a9503",
   "metadata": {},
   "source": [
    "<img src=\"./logo_UTN_3.svg\" align=\"right\" width=\"200\" /> \n",
    "\n",
    "### Teoría de los Circuitos 2\n",
    "\n",
    "# Trabajo semanal 6\n",
    "### Axel Nathanel Nahum\n"
   ]
  },
  {
   "cell_type": "markdown",
   "id": "16835e06",
   "metadata": {},
   "source": [
    "## Introduccion\n",
    "\n",
    "En este $Jupyter$ nos encontraremos con la resolucion de los $ejercicios$ $1$ y $2$ de la $TS6$. \n",
    "\n",
    "En el primero de estos nos vamos a encontrar con un circuito con un $transformador$ $ideal$, aparte de algunas $resistencias$, en donde tendremos que calcular los $parametros$ $Z$ correspondientes.\n",
    "\n",
    "En el segundo tendremos que calcular la $transferencia$ de dos maneras distintas. En el a) mediante interseccion de cuadripolos y en el b) mediante la $matriz$ $de$ $admitancias$ $idenfinida$ $(MAI)$. Ademas habra un inciso d) en el cual tendremos que calcular la $impedancia$ de entrada con este ultimo metodo."
   ]
  },
  {
   "cell_type": "markdown",
   "id": "bbdb6482",
   "metadata": {},
   "source": [
    "## Resolucion"
   ]
  },
  {
   "cell_type": "markdown",
   "id": "47c15b9f",
   "metadata": {},
   "source": [
    "### Resolucion ejercicio 1"
   ]
  },
  {
   "cell_type": "code",
   "execution_count": 1,
   "id": "4d5a5bb1",
   "metadata": {},
   "outputs": [
    {
     "data": {
      "text/html": [
       "\n",
       "        <iframe\n",
       "            width=\"900\"\n",
       "            height=\"1000\"\n",
       "            src=\"./Resolucion_EJ1.pdf\"\n",
       "            frameborder=\"0\"\n",
       "            allowfullscreen\n",
       "            \n",
       "        ></iframe>\n",
       "        "
      ],
      "text/plain": [
       "<IPython.lib.display.IFrame at 0x1897fffde70>"
      ]
     },
     "execution_count": 1,
     "metadata": {},
     "output_type": "execute_result"
    }
   ],
   "source": [
    "from IPython.display import IFrame\n",
    "IFrame(\"./Resolucion_EJ1.pdf\", width=900, height=1000)"
   ]
  },
  {
   "cell_type": "markdown",
   "id": "ba31acbb",
   "metadata": {},
   "source": [
    "### Resolucion ejercicio 2"
   ]
  },
  {
   "cell_type": "code",
   "execution_count": 2,
   "id": "f6d9ac5d",
   "metadata": {},
   "outputs": [
    {
     "data": {
      "text/html": [
       "\n",
       "        <iframe\n",
       "            width=\"900\"\n",
       "            height=\"1000\"\n",
       "            src=\"./Resolucion_EJ2.pdf\"\n",
       "            frameborder=\"0\"\n",
       "            allowfullscreen\n",
       "            \n",
       "        ></iframe>\n",
       "        "
      ],
      "text/plain": [
       "<IPython.lib.display.IFrame at 0x1897ffff9a0>"
      ]
     },
     "execution_count": 2,
     "metadata": {},
     "output_type": "execute_result"
    }
   ],
   "source": [
    "from IPython.display import IFrame\n",
    "IFrame(\"./Resolucion_EJ2.pdf\", width=900, height=1000)"
   ]
  },
  {
   "cell_type": "markdown",
   "id": "b3b1407f",
   "metadata": {},
   "source": [
    "En estos dos $PDFs$ se observan la $resoluciones$ de los ejercicios 1 y 2 respectivamente correspodiente a la $TS6$.\n",
    "\n",
    "En el $primer$ $ejercicio$ tenemos una $Z11$ igual a:\n",
    "\n",
    "$$Z11 = \\frac{R1 R2 R3}{R1 R2 + 4 R1 R3 + R2 R3}$$\n",
    "\n",
    "$$Z11 = \\frac{1.2.3}{1.2 + 4.1.3 + 2.3}$$\n",
    "\n",
    "$$Z11 = 0.3\\Omega$$"
   ]
  },
  {
   "cell_type": "markdown",
   "id": "17c6d547",
   "metadata": {},
   "source": [
    "### Codigo de PYTHON EJ1"
   ]
  },
  {
   "cell_type": "code",
   "execution_count": 46,
   "id": "e7862dff",
   "metadata": {},
   "outputs": [
    {
     "data": {
      "text/latex": [
       "$\\displaystyle Z_{in} = \\frac{R_{1} R_{2} R_{3}}{R_{1} R_{2} + 4 R_{1} R_{3} + R_{2} R_{3}}$"
      ],
      "text/plain": [
       "<IPython.core.display.Math object>"
      ]
     },
     "metadata": {},
     "output_type": "display_data"
    },
    {
     "data": {
      "text/latex": [
       "$\\displaystyle Z_{in} = \\frac{3}{10}$"
      ],
      "text/plain": [
       "<IPython.core.display.Math object>"
      ]
     },
     "metadata": {},
     "output_type": "display_data"
    }
   ],
   "source": [
    "import sympy as sp\n",
    "\n",
    "from pytc2.general import print_latex\n",
    "\n",
    "R1 = sp.symbols ('R1')\n",
    "R2 = sp.symbols ('R2')\n",
    "R3 = sp.symbols ('R3')\n",
    "\n",
    "Z = R1*R2*R3/(R1*R2 + 4*R1*R3 + R2*R3) \n",
    "\n",
    "Zin = Z.subs(R1, 1).subs(R2, 2).subs(R3, 3)\n",
    "\n",
    "print_latex(r'Z_{in} = ' + sp.latex(Z))\n",
    "\n",
    "print_latex( r'Z_{in} = ' +  sp.latex(Zin))"
   ]
  },
  {
   "cell_type": "markdown",
   "id": "aa5cfe2d",
   "metadata": {},
   "source": [
    "## Circuito LTspice ejercicio 1"
   ]
  },
  {
   "cell_type": "markdown",
   "id": "b453f03b",
   "metadata": {},
   "source": [
    "<img src=\"./Circuito_EJ1_V2.PNG\" align=\"middle\" width=\"1050\" /> "
   ]
  },
  {
   "cell_type": "markdown",
   "id": "f36a2e39",
   "metadata": {},
   "source": [
    "## Respuesta en frecuencia LTspice ejercicio 1\n",
    "\n",
    "### Parametros Z\n",
    "\n",
    "<img src=\"./Respuesta_Frecuencia_EJ1_Z.PNG\" align=\"middle\" width=\"1000\" /> "
   ]
  },
  {
   "cell_type": "markdown",
   "id": "d94f8e25",
   "metadata": {},
   "source": [
    "Se observa como en los cuatro $graficos$ el modulo de cada parametro es $0.3$$\\Omega$ aproximadamente, verificando lo hayado en el $PDF$. Por otro lado, en los $graficos$ correspondientes a $Z12$ y $Z21$, se ve que tienen un valor de fase de 180°, verificando asi el signo menos asociado a ellos (es decir a $Z12$ y $Z21$)."
   ]
  },
  {
   "cell_type": "markdown",
   "id": "fcd2277f",
   "metadata": {},
   "source": [
    "## Circuito LTspice ejercicio 2 "
   ]
  },
  {
   "cell_type": "markdown",
   "id": "ce61a597",
   "metadata": {},
   "source": [
    "<img src=\"./Circuito_EJ2.PNG\" align=\"middle\" width=\"1050\" /> "
   ]
  },
  {
   "cell_type": "markdown",
   "id": "8b2b3151",
   "metadata": {},
   "source": [
    "## Respuesta en frecuencia LTspice ejercicio 2\n",
    "\n",
    "<img src=\"./Respuesta_Frecuencia_EJ2.PNG\" align=\"middle\" width=\"1000\" /> "
   ]
  },
  {
   "cell_type": "markdown",
   "id": "726e5810",
   "metadata": {},
   "source": [
    "Se observa como el filtro corta justo en $158.50mHz$. Esta frecuencia nos da un $\\omega$ de $1$ $rad/seg$. Esto tiene sentido ya que como se vio en la $resolucion$ del PDF, los valores de los componentes hacen que la $Frecuencia$ $de$ $corte$ del filtro Pasa-Bajos este justo en 1. Por otro lado, se ve como a esa $frecuencia$, la atencuacion es de $3dB$."
   ]
  }
 ],
 "metadata": {
  "kernelspec": {
   "display_name": "Python 3 (ipykernel)",
   "language": "python",
   "name": "python3"
  },
  "language_info": {
   "codemirror_mode": {
    "name": "ipython",
    "version": 3
   },
   "file_extension": ".py",
   "mimetype": "text/x-python",
   "name": "python",
   "nbconvert_exporter": "python",
   "pygments_lexer": "ipython3",
   "version": "3.10.11"
  }
 },
 "nbformat": 4,
 "nbformat_minor": 5
}
